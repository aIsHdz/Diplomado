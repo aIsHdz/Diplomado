{
  "nbformat": 4,
  "nbformat_minor": 0,
  "metadata": {
    "colab": {
      "provenance": [],
      "authorship_tag": "ABX9TyNRtruMtVOvB96vvBULQNVb",
      "include_colab_link": true
    },
    "kernelspec": {
      "name": "python3",
      "display_name": "Python 3"
    },
    "language_info": {
      "name": "python"
    }
  },
  "cells": [
    {
      "cell_type": "markdown",
      "metadata": {
        "id": "view-in-github",
        "colab_type": "text"
      },
      "source": [
        "<a href=\"https://colab.research.google.com/github/aIsHdz/Diplomado/blob/main/Notas%20/%20Clase_7.ipynb\" target=\"_parent\"><img src=\"https://colab.research.google.com/assets/colab-badge.svg\" alt=\"Open In Colab\"/></a>"
      ]
    },
    {
      "cell_type": "code",
      "execution_count": null,
      "metadata": {
        "colab": {
          "base_uri": "https://localhost:8080/"
        },
        "id": "whel77Fk8RfP",
        "outputId": "2e2fbf05-f0dc-465c-b30f-0652ae60c664"
      },
      "outputs": [
        {
          "output_type": "execute_result",
          "data": {
            "text/plain": [
              "5"
            ]
          },
          "metadata": {},
          "execution_count": 1
        }
      ],
      "source": [
        "35//7"
      ]
    },
    {
      "cell_type": "code",
      "source": [
        "from numpy import sqrt, exp\n",
        "def f(a,b,c):\n",
        "  x1=(-b+(sqrt(b*b-(4*a*c))))/(2*a)\n",
        "  x2=(-b-(sqrt(b*b-(4*a*c))))/(2*a)\n",
        "\n",
        "  return (x1, x2)"
      ],
      "metadata": {
        "id": "zMozpOTLXkHs"
      },
      "execution_count": null,
      "outputs": []
    },
    {
      "cell_type": "code",
      "source": [
        "f(2,20,4)"
      ],
      "metadata": {
        "colab": {
          "base_uri": "https://localhost:8080/"
        },
        "id": "vv465G8nYOwZ",
        "outputId": "c14adf54-9b09-45f3-9a64-724d29f7e886"
      },
      "execution_count": null,
      "outputs": [
        {
          "output_type": "execute_result",
          "data": {
            "text/plain": [
              "(-0.2041684766872809, -9.79583152331272)"
            ]
          },
          "metadata": {},
          "execution_count": 13
        }
      ]
    },
    {
      "cell_type": "code",
      "source": [
        "#Crear una función para resolver una ecuación cuadrática.\n",
        "# a*x^2 + b*x + c = 0\n",
        "# a, b, c\n",
        "import matplotlib.pyplot as pyplot\n",
        "\n",
        "def discriminante(a, b, c):\n",
        "    discrim = (b**2)-(4*a*c)\n",
        "    return discrim\n",
        "\n",
        "#def sdiscrimin():\n",
        "#    discrim\n",
        "#    return\n",
        "def f(a,b,c,x):\n",
        "    return a*(x**2) + b*x + c\n",
        "\n",
        "\n",
        "def raices(a, b, discrim):\n",
        "    #raiz1=(-b + sqrt(discrim))/(2*a)\n",
        "    #raiz2=(-b - sqrt(discrim))/(2*a)\n",
        "    if disc < 0:\n",
        "        pass\n",
        "    elif disc == 0:\n",
        "        cero = -b/(2*a)\n",
        "        return cero\n",
        "    else:\n",
        "        raiz1 = (-b + (discrim**.5))/(2*a)\n",
        "        raiz2 = (-b - (discrim**.5))/(2*a)\n",
        "        return raiz1,raiz2\n",
        "\n",
        "\n",
        "print('--------------Calculo de raices------------------')\n",
        "a=float(input('a: '))\n",
        "b=float(input('b: '))\n",
        "c=float(input('c: '))\n",
        "\n",
        "#Discriminante\n",
        "disc=discriminante(a,b,c)\n",
        "\n",
        "\n",
        "\n",
        "if disc < 0:\n",
        "  print(\"No hay raices positivas\")\n",
        "\n",
        "elif disc == 0:\n",
        "  print('Solo existe una raiz')\n",
        "  print(raices(a,b,disc))\n",
        "\n",
        "\n",
        "else:\n",
        "  print(\"La raices son: \")\n",
        "  print(raices(a,b,disc))"
      ],
      "metadata": {
        "id": "cd8btyIKa4g0"
      },
      "execution_count": null,
      "outputs": []
    },
    {
      "cell_type": "code",
      "source": [
        "import numpy as np\n",
        "\n",
        "def cuadratica(a, b, c):\n",
        "    \"\"\" dados los coeficientes de una ecuación retorna las raíces reales\n",
        "        en caso de existir \"\"\"\n",
        "    discriminante = b**2 - 4*a*c\n",
        "    if discriminante >= 0:\n",
        "        x1 = -b/2*a + np.sqrt(discriminante)/2*a\n",
        "        x2 = -b/2*a - np.sqrt(discriminante)/2*a\n",
        "        return f'Las soluciones son: x1 = {x1}, x2 = {x2}'\n",
        "    else:\n",
        "        return f'La ecuación: ({a})x^2+({b})x+({c})=0 no tiene raíces reales'\n",
        "\n",
        "cuadratica(4,20,9)"
      ],
      "metadata": {
        "colab": {
          "base_uri": "https://localhost:8080/",
          "height": 36
        },
        "id": "LdAAWDq6bN_5",
        "outputId": "c6dbf022-fb87-4644-b359-cf0ff30cad56"
      },
      "execution_count": null,
      "outputs": [
        {
          "output_type": "execute_result",
          "data": {
            "text/plain": [
              "'Las soluciones son: x1 = -8.0, x2 = -72.0'"
            ],
            "application/vnd.google.colaboratory.intrinsic+json": {
              "type": "string"
            }
          },
          "metadata": {},
          "execution_count": 15
        }
      ]
    },
    {
      "cell_type": "code",
      "source": [
        "cubo = lambda x:x**3"
      ],
      "metadata": {
        "id": "xp04vT8bkmOw"
      },
      "execution_count": null,
      "outputs": []
    },
    {
      "cell_type": "code",
      "source": [
        "cubo(4)"
      ],
      "metadata": {
        "colab": {
          "base_uri": "https://localhost:8080/"
        },
        "id": "kXUqKWBwktKi",
        "outputId": "8c252c23-1fb4-47bc-ec7f-7b826550f911"
      },
      "execution_count": null,
      "outputs": [
        {
          "output_type": "execute_result",
          "data": {
            "text/plain": [
              "64"
            ]
          },
          "metadata": {},
          "execution_count": 17
        }
      ]
    },
    {
      "cell_type": "code",
      "source": [
        "func = lambda x: True if x**2 >= 10 else False"
      ],
      "metadata": {
        "id": "FNDCpCQ5kvEK"
      },
      "execution_count": null,
      "outputs": []
    },
    {
      "cell_type": "code",
      "source": [
        "func(10)"
      ],
      "metadata": {
        "colab": {
          "base_uri": "https://localhost:8080/"
        },
        "id": "WoutasxKlpcb",
        "outputId": "39392583-c48c-4aec-e000-6d53e261b7a8"
      },
      "execution_count": null,
      "outputs": [
        {
          "output_type": "execute_result",
          "data": {
            "text/plain": [
              "True"
            ]
          },
          "metadata": {},
          "execution_count": 19
        }
      ]
    }
  ]
}